{
 "metadata": {
  "name": "",
  "signature": "sha256:9e883c92b6792e823c4a706128550dbdf0bb78569cd06b0510db5e5867d3bc14"
 },
 "nbformat": 3,
 "nbformat_minor": 0,
 "worksheets": [
  {
   "cells": [
    {
     "cell_type": "code",
     "collapsed": false,
     "input": [
      "%load 2DiTEBD.py"
     ],
     "language": "python",
     "metadata": {},
     "outputs": [],
     "prompt_number": 1
    },
    {
     "cell_type": "code",
     "collapsed": true,
     "input": [
      "import pyUni10 as uni10\n",
      "import sys\n",
      "import numpy as np\n",
      "import copy\n",
      "if(\"../Hamiltonians\" not in sys.path):\n",
      "  sys.path.append(\"../Hamiltonians\")\n",
      "import hamiltonian as ham\n",
      "\n",
      "def bondcat(T, L, bidx):\n",
      "\tlabels = T.label()\n",
      "\tper_labels = list(T.label())\n",
      "\tper_labels.insert(0, per_labels.pop(bidx))\n",
      "\tinBondNum = T.inBondNum()\n",
      "\tT.permute(per_labels, 1)\n",
      "\tT.putBlock(L * T.getBlock())\n",
      "\tT.permute(labels, inBondNum)\n",
      "\treturn T\n",
      "\n",
      "def bondrm(T, L, bidx):\n",
      "\tinvL = uni10.Matrix(L.row(), L.col(), True)\n",
      "\tfor i in xrange(L.elemNum()):\n",
      "\t\tinvL[i] = 0 if L[i] == 0 else 1.0 / L[i]\n",
      "\treturn bondcat(T, invL, bidx)\n",
      "\n",
      "def updateU(AL, BL, LU, LR, LD, LL, U, iTEBD, updateA):\n",
      "\tBL = bondcat(BL, LR, 4);\n",
      "\tiTEBD.putTensor(\"A\", AL)\n",
      "\tiTEBD.putTensor(\"B\", BL);\n",
      "\tiTEBD.putTensor(\"expH\", U);\n",
      "\tC = iTEBD.launch();\n",
      "\tTheta = copy.copy(C);\n",
      "\tThata = bondcat(Theta, LD, 2)\n",
      "\tThata = bondcat(Theta, LL, 3)\n",
      "\n",
      "\tsvds = Theta.getBlock().svd();\n",
      "\tdim = LU.row()\n",
      "\tLU = svds[1];\n",
      "\tnorm = LU.resize(dim, dim).norm()\n",
      "\tLU = LU * (1.0 / norm)\n",
      "\tBL.assign(BL.bond());\n",
      "\tBL.permute([3, 0, 4, 1, 2], 1);\n",
      "\tBL.putBlock(svds[2].resize(dim, svds[2].col()));\n",
      "\tBL.permute(range(5), 1);\n",
      "\n",
      "\tupdateA.putTensor(\"B\", BL);\n",
      "\tupdateA.putTensor(\"C\", C);\n",
      "\tAL = updateA.launch() * (1 / norm);\n",
      "\tAL.setLabel(range(5));\n",
      "\tBL = bondrm(BL, LR, 4);\n",
      "\treturn AL, BL, LU;\n",
      "\n",
      "def updateR(AL, BL, LU, LR, LD, LL, U, iTEBD, updateA):\n",
      "\tBL = bondcat(BL, LU, 3);\n",
      "\tiTEBD.putTensor(\"A\", AL)\n",
      "\tiTEBD.putTensor(\"B\", BL);\n",
      "\tiTEBD.putTensor(\"expH\", U);\n",
      "\tC = iTEBD.launch();\n",
      "\tTheta = copy.copy(C);\n",
      "\tThata = bondcat(Theta, LD, 1)\n",
      "\tThata = bondcat(Theta, LL, 2)\n",
      "\n",
      "\tsvds = Theta.getBlock().svd();\n",
      "\tdim = LR.row()\n",
      "\tLR = svds[1]\n",
      "\tnorm = LR.resize(dim, dim).norm();\n",
      "\tLR = LR * (1 / norm);\n",
      "\tBL.assign(BL.bond());\n",
      "\tBL.permute([4, 0, 1, 2, 3], 1);\n",
      "\tBL.putBlock(svds[2].resize(dim, svds[2].col()));\n",
      "\tBL.permute(range(5), 1);\n",
      "\n",
      "\tupdateA.putTensor(\"B\", BL);\n",
      "\tupdateA.putTensor(\"C\", C);\n",
      "\tAL = updateA.launch();\n",
      "\tAL *= (1 / norm);\n",
      "\tAL.setLabel(range(5));\n",
      "\tBL = bondrm(BL, LU, 3);\n",
      "\treturn AL, BL, LR\n",
      "\n",
      "def updateD(AL, BL, LU, LR, LD, LL, U, iTEBD, updateA):\n",
      "\tBL, AL, LD = updateU(BL, AL, LD, LL, LU, LR, U, iTEBD, updateA);\n",
      "\treturn AL, BL, LD\n",
      "\n",
      "\n",
      "def updateL(AL, BL, LU, LR, LD, LL, U, iTEBD, updateA):\n",
      "\tBL, AL, LL = updateR(BL, AL, LD, LL, LU, LR, U, iTEBD, updateA);\n",
      "\treturn AL, BL, LL\n",
      "\n",
      "def bond_expectation(ALL, BLL, Ob, measure_nt, norm_net):\n",
      "\tmeasure_net.putTensor(\"ALL\", ALL);\n",
      "\tmeasure_net.putTensor(\"BLL\", BLL);\n",
      "\tmeasure_net.putTensorT(\"ALLT\", ALL);\n",
      "\tmeasure_net.putTensorT(\"BLLT\", BLL);\n",
      "\tmeasure_net.putTensorT(\"Ob\", Ob);\n",
      "\tval = measure_net.launch()\n",
      "\n",
      "\tnorm_net.putTensor(\"ALL\", ALL);\n",
      "\tnorm_net.putTensor(\"BLL\", BLL);\n",
      "\tnorm_net.putTensorT(\"ALLT\", ALL);\n",
      "\tnorm_net.putTensorT(\"BLLT\", BLL);\n",
      "\tnorm = norm_net.launch();\n",
      "\treturn val[0] / norm[0];\n",
      "\n",
      "\n",
      "def measure(AL, BL, LU, LR, LD, LL, Ob, measure_net, norm_net):\n",
      "\tALL = copy.copy(AL)\n",
      "\tBLL = copy.copy(BL)\n",
      "\tbondcat(ALL, LD, 3);\n",
      "\tbondcat(ALL, LL, 4);\n",
      "\tbondcat(BLL, LU, 3);\n",
      "\tbondcat(BLL, LR, 4);\n",
      "\tLs = [LU, LR, LD, LL]\n",
      "\n",
      "\tval = 0.0\n",
      "\tfor i in xrange(4):\n",
      "\t\tBLL1 = copy.copy(BLL);\n",
      "\t\trotate_label = [x if x == 0 else ((x-1) + i) % 4 + 1 for x in xrange(5)]\n",
      "\t\tALL.permute(rotate_label, 1);\n",
      "\t\tBLL1.permute(rotate_label, 1);\n",
      "\t\tBLL1 = bondrm(BLL1, Ls[i], 3);\n",
      "\t\tval += bond_expectation(ALL, BLL1, Ob, measure_net, norm_net);\n",
      "\treturn val / 4.0;\n",
      "\n",
      "\n",
      "chi = 4\n",
      "N = 1000\n",
      "tau = 0.01\n",
      "H = ham.transverseIsing(0.7)\n",
      "print H\n",
      "\n",
      "bdi_chi = uni10.Bond(uni10.BD_IN, chi);\n",
      "bdo_chi = uni10.Bond(uni10.BD_OUT, chi);\n",
      "\n",
      "GaL = uni10.UniTensor([H.bond(0), bdo_chi, bdo_chi, bdo_chi, bdo_chi], \"GaL\"); #gammaA * lambda\n",
      "GbL = uni10.UniTensor([H.bond(0), bdo_chi, bdo_chi, bdo_chi, bdo_chi], \"GbL\"); #gammaA * lambda\n",
      "GaL.randomize();\n",
      "GbL.randomize();\n",
      "\n",
      "I_chi = uni10.Matrix(chi, chi, True);\n",
      "I_chi.randomize();\n",
      "LU = copy.copy(I_chi) # up\n",
      "LR = copy.copy(I_chi) # right\n",
      "LD = copy.copy(I_chi) # down\n",
      "LL = copy.copy(I_chi) #left\n",
      "\n",
      "GaL = bondcat(GaL, LU, 1);\n",
      "GaL = bondcat(GaL, LR, 2);\n",
      "GbL = bondcat(GbL, LD, 1);\n",
      "GbL = bondcat(GbL, LL, 1);\n",
      "\n",
      "U = uni10.UniTensor(H.bond(), \"U\")\n",
      "U.putBlock(uni10.takeExp(-tau, H.getBlock()));\n",
      "\n",
      "iTEBD_V_net = uni10.Network(\"2DiTEBD_V.net\");\n",
      "updateA_V_net = uni10.Network(\"updateA_V.net\");\n",
      "iTEBD_H_net = uni10.Network(\"2DiTEBD_H.net\")\n",
      "updateA_H_net = uni10.Network(\"updateA_H.net\");\n",
      "measure_net = uni10.Network(\"measure.net\");\n",
      "norm_net = uni10.Network(\"norm.net\");\n",
      "\n",
      "for i in xrange(N):\n",
      "    GaL, GbL, LU = updateU(GaL, GbL, LU, LR, LD, LL, U, iTEBD_V_net, updateA_V_net);\n",
      "    GaL, GbL, LR = updateR(GaL, GbL, LU, LR, LD, LL, U, iTEBD_H_net, updateA_H_net);\n",
      "    GaL, GbL, LD = updateD(GaL, GbL, LU, LR, LD, LL, U, iTEBD_V_net, updateA_V_net);\n",
      "    GaL, GbL, LL = updateL(GaL, GbL, LU, LR, LD, LL, U, iTEBD_H_net, updateA_H_net);\n",
      "    E = measure(GaL, GbL, LU, LR, LD, LL, H, measure_net, norm_net)\n",
      "    print \"E =\", E\n",
      "\n"
     ],
     "language": "python",
     "metadata": {},
     "outputs": [
      {
       "output_type": "stream",
       "stream": "stdout",
       "text": [
        "\n",
        "********** transverse Ising **********\n",
        "             ____________\n",
        "            |            |\n",
        "        0___|2          2|___2    \n",
        "            |            |   \n",
        "        1___|2          2|___3    \n",
        "            |            |   \n",
        "            |____________|\n",
        "\n",
        "================BONDS===============\n",
        "IN : (U1 = 0, P = 0, 0)|2, Dim = 2\n",
        "IN : (U1 = 0, P = 0, 0)|2, Dim = 2\n",
        "OUT: (U1 = 0, P = 0, 0)|2, Dim = 2\n",
        "OUT: (U1 = 0, P = 0, 0)|2, Dim = 2\n",
        "\n",
        "===============BLOCKS===============\n",
        "--- (U1 = 0, P = 0, 0): 4 x 4 = 16\n",
        "\n",
        "  1.000  0.350  0.350  0.000\n",
        "\n",
        "  0.350 -1.000  0.000  0.350\n",
        "\n",
        "  0.350  0.000 -1.000  0.350\n",
        "\n",
        "  0.000  0.350  0.350  1.000\n",
        "\n",
        "Total elemNum: 16\n",
        "***************** END ****************\n",
        "\n",
        "\n",
        "E ="
       ]
      },
      {
       "output_type": "stream",
       "stream": "stdout",
       "text": [
        " 0.673860619307\n",
        "E = 0.649228020746\n",
        "E ="
       ]
      },
      {
       "output_type": "stream",
       "stream": "stdout",
       "text": [
        " 0.621348216215\n",
        "E = 0.590034628085\n",
        "E ="
       ]
      },
      {
       "output_type": "stream",
       "stream": "stdout",
       "text": [
        " 0.554861664464\n",
        "E = 0.515325086926\n",
        "E ="
       ]
      },
      {
       "output_type": "stream",
       "stream": "stdout",
       "text": [
        " 0.470788342451\n",
        "E = 0.420380153666\n",
        "E ="
       ]
      },
      {
       "output_type": "stream",
       "stream": "stdout",
       "text": [
        " 0.362799094488\n",
        "E = 0.295958230803\n",
        "E ="
       ]
      },
      {
       "output_type": "stream",
       "stream": "stdout",
       "text": [
        " 0.216395679595\n",
        "E = 0.118525952787\n",
        "E ="
       ]
      },
      {
       "output_type": "stream",
       "stream": "stdout",
       "text": [
        " -0.00541522140074\n",
        "E = -0.16175518686\n",
        "E ="
       ]
      },
      {
       "output_type": "stream",
       "stream": "stdout",
       "text": [
        " -0.344349733829\n",
        "E = -0.525495666357\n",
        "E ="
       ]
      },
      {
       "output_type": "stream",
       "stream": "stdout",
       "text": [
        " -0.673519977018\n",
        "E = -0.779918957876\n",
        "E ="
       ]
      },
      {
       "output_type": "stream",
       "stream": "stdout",
       "text": [
        " -0.854746724859\n",
        "E = -0.909315064188\n",
        "E ="
       ]
      },
      {
       "output_type": "stream",
       "stream": "stdout",
       "text": [
        " -0.950643030289\n",
        "E = -0.982714963466\n",
        "E = -1.00799340589\n",
        "E ="
       ]
      },
      {
       "output_type": "stream",
       "stream": "stdout",
       "text": [
        " -1.02814454483\n",
        "E = -1.04435652906\n",
        "E = -1.05750182861\n",
        "E ="
       ]
      },
      {
       "output_type": "stream",
       "stream": "stdout",
       "text": [
        " -1.06823366753\n",
        "E = -1.07704843365\n",
        "E = -1.08432798076\n",
        "E ="
       ]
      },
      {
       "output_type": "stream",
       "stream": "stdout",
       "text": [
        " -1.09036915861\n",
        "E = -1.09540487768\n",
        "E ="
       ]
      },
      {
       "output_type": "stream",
       "stream": "stdout",
       "text": [
        " -1.09961939647\n",
        "E = -1.1031595763\n",
        "E ="
       ]
      },
      {
       "output_type": "stream",
       "stream": "stdout",
       "text": [
        " -1.1061432706\n",
        "E = -1.10866564663\n",
        "E ="
       ]
      },
      {
       "output_type": "stream",
       "stream": "stdout",
       "text": [
        " -1.11080399576\n",
        "E = -1.11262142614\n",
        "E ="
       ]
      },
      {
       "output_type": "stream",
       "stream": "stdout",
       "text": [
        " -1.11416972035\n",
        "E = -1.11549156332\n",
        "E ="
       ]
      },
      {
       "output_type": "stream",
       "stream": "stdout",
       "text": [
        " -1.11662229132\n",
        "E = -1.11759127379\n",
        "E ="
       ]
      },
      {
       "output_type": "stream",
       "stream": "stdout",
       "text": [
        " -1.11842301168\n",
        "E = -1.11913801544\n",
        "E ="
       ]
      },
      {
       "output_type": "stream",
       "stream": "stdout",
       "text": [
        " -1.11975351051\n",
        "E = -1.12028400714\n",
        "E ="
       ]
      },
      {
       "output_type": "stream",
       "stream": "stdout",
       "text": [
        " -1.12074176283\n",
        "E = -1.12113715923\n",
        "E = -1.12147901074\n",
        "E ="
       ]
      },
      {
       "output_type": "stream",
       "stream": "stdout",
       "text": [
        " -1.12177481812\n",
        "E = -1.12203097782\n",
        "E ="
       ]
      },
      {
       "output_type": "stream",
       "stream": "stdout",
       "text": [
        " -1.12225295526\n",
        "E = -1.12244542891\n",
        "E ="
       ]
      },
      {
       "output_type": "stream",
       "stream": "stdout",
       "text": [
        " -1.12261241039\n",
        "E = -1.12275734489\n",
        "E ="
       ]
      },
      {
       "output_type": "stream",
       "stream": "stdout",
       "text": [
        " -1.12288319548\n",
        "E = -1.12299251399\n",
        "E ="
       ]
      },
      {
       "output_type": "stream",
       "stream": "stdout",
       "text": [
        " -1.12308750081\n",
        "E = -1.12317005544\n",
        "E ="
       ]
      },
      {
       "output_type": "stream",
       "stream": "stdout",
       "text": [
        " -1.12324181939\n",
        "E = -1.12330421256\n",
        "E ="
       ]
      },
      {
       "output_type": "stream",
       "stream": "stdout",
       "text": [
        " -1.12335846427\n",
        "E = -1.12340563968\n",
        "E = -1.1234466624\n",
        "E ="
       ]
      },
      {
       "output_type": "stream",
       "stream": "stdout",
       "text": [
        " -1.12348233383\n",
        "E = -1.1235133498\n",
        "E = -1.12354031472\n",
        "E ="
       ]
      },
      {
       "output_type": "stream",
       "stream": "stdout",
       "text": [
        " -1.12356375396\n",
        "E = -1.12358412431\n",
        "E = -1.12360182311\n",
        "E ="
       ]
      },
      {
       "output_type": "stream",
       "stream": "stdout",
       "text": [
        " -1.12361719614\n",
        "E = -1.12363054434\n",
        "E = -1.12364212977\n",
        "E ="
       ]
      },
      {
       "output_type": "stream",
       "stream": "stdout",
       "text": [
        " -1.12365218063\n",
        "E = -1.1236608957\n",
        "E = -1.12366844813\n",
        "E ="
       ]
      },
      {
       "output_type": "stream",
       "stream": "stdout",
       "text": [
        " -1.12367498882\n",
        "E = -1.12368064921\n",
        "E = -1.12368554389\n",
        "E ="
       ]
      },
      {
       "output_type": "stream",
       "stream": "stdout",
       "text": [
        " -1.12368977268\n",
        "E = -1.12369342257\n",
        "E = -1.12369656939\n",
        "E ="
       ]
      },
      {
       "output_type": "stream",
       "stream": "stdout",
       "text": [
        " -1.12369927919\n",
        "E = -1.12370160952\n",
        "E = -1.12370361052\n",
        "E ="
       ]
      },
      {
       "output_type": "stream",
       "stream": "stdout",
       "text": [
        " -1.12370532588\n",
        "E = -1.12370679361\n",
        "E = -1.12370804684\n",
        "E ="
       ]
      },
      {
       "output_type": "stream",
       "stream": "stdout",
       "text": [
        " -1.12370911439\n",
        "E = -1.12371002136\n",
        "E = -1.12371078956\n",
        "E ="
       ]
      },
      {
       "output_type": "stream",
       "stream": "stdout",
       "text": [
        " -1.12371143798\n",
        "E = -1.12371198311\n",
        "E = -1.1237124393\n",
        "E ="
       ]
      },
      {
       "output_type": "stream",
       "stream": "stdout",
       "text": [
        " -1.12371281899\n",
        "E = -1.12371313299\n",
        "E = -1.12371339068\n",
        "E ="
       ]
      },
      {
       "output_type": "stream",
       "stream": "stdout",
       "text": [
        " -1.1237136002\n",
        "E = -1.12371376858\n",
        "E = -1.12371390192\n",
        "E ="
       ]
      },
      {
       "output_type": "stream",
       "stream": "stdout",
       "text": [
        " -1.1237140055\n",
        "E = -1.12371408387\n",
        "E = -1.12371414098\n",
        "E ="
       ]
      },
      {
       "output_type": "stream",
       "stream": "stdout",
       "text": [
        " -1.12371418021\n",
        "E = -1.12371420448\n",
        "E = -1.12371421631\n",
        "E ="
       ]
      },
      {
       "output_type": "stream",
       "stream": "stdout",
       "text": [
        " -1.12371421786\n",
        "E = -1.12371421097\n",
        "E = -1.12371419723\n",
        "E ="
       ]
      },
      {
       "output_type": "stream",
       "stream": "stdout",
       "text": [
        " -1.12371417799\n",
        "E = -1.1237141544\n",
        "E = -1.12371412743\n",
        "E ="
       ]
      },
      {
       "output_type": "stream",
       "stream": "stdout",
       "text": [
        " -1.12371409792\n",
        "E = -1.12371406656\n",
        "E = -1.12371403394\n",
        "E ="
       ]
      },
      {
       "output_type": "stream",
       "stream": "stdout",
       "text": [
        " -1.12371400055\n",
        "E = -1.1237139668\n",
        "E = -1.12371393302\n",
        "E ="
       ]
      },
      {
       "output_type": "stream",
       "stream": "stdout",
       "text": [
        " -1.12371389948\n",
        "E = -1.12371386643\n",
        "E = -1.12371383402\n",
        "E ="
       ]
      },
      {
       "output_type": "stream",
       "stream": "stdout",
       "text": [
        " -1.12371380241\n",
        "E = -1.12371377171\n",
        "E = -1.123713742\n",
        "E ="
       ]
      },
      {
       "output_type": "stream",
       "stream": "stdout",
       "text": [
        " -1.12371371333\n",
        "E = -1.12371368575\n",
        "E = -1.12371365929\n",
        "E ="
       ]
      },
      {
       "output_type": "stream",
       "stream": "stdout",
       "text": [
        " -1.12371363395\n",
        "E = -1.12371360974\n",
        "E = -1.12371358664\n",
        "E ="
       ]
      },
      {
       "output_type": "stream",
       "stream": "stdout",
       "text": [
        " -1.12371356463\n",
        "E = -1.12371354371\n",
        "E = -1.12371352384\n",
        "E ="
       ]
      },
      {
       "output_type": "stream",
       "stream": "stdout",
       "text": [
        " -1.12371350498\n",
        "E = -1.12371348712\n",
        "E = -1.1237134702\n",
        "E ="
       ]
      },
      {
       "output_type": "stream",
       "stream": "stdout",
       "text": [
        " -1.1237134542\n",
        "E = -1.12371343908\n",
        "E = -1.1237134248\n",
        "E ="
       ]
      },
      {
       "output_type": "stream",
       "stream": "stdout",
       "text": [
        " -1.12371341132\n",
        "E = -1.12371339861\n",
        "E = -1.12371338662\n",
        "E ="
       ]
      },
      {
       "output_type": "stream",
       "stream": "stdout",
       "text": [
        " -1.12371337533\n",
        "E = -1.1237133647\n",
        "E = -1.1237133547\n",
        "E ="
       ]
      },
      {
       "output_type": "stream",
       "stream": "stdout",
       "text": [
        " -1.12371334529\n",
        "E = -1.12371333644\n",
        "E = -1.12371332812\n",
        "E ="
       ]
      },
      {
       "output_type": "stream",
       "stream": "stdout",
       "text": [
        " -1.1237133203\n",
        "E = -1.12371331295\n",
        "E ="
       ]
      },
      {
       "output_type": "stream",
       "stream": "stdout",
       "text": [
        " -1.12371330605\n",
        "E = -1.12371329957\n",
        "E ="
       ]
      },
      {
       "output_type": "stream",
       "stream": "stdout",
       "text": [
        " -1.12371329349\n",
        "E = -1.12371328779\n",
        "E = -1.12371328243\n",
        "E ="
       ]
      },
      {
       "output_type": "stream",
       "stream": "stdout",
       "text": [
        " -1.12371327741\n",
        "E = -1.1237132727\n",
        "E = -1.12371326828\n",
        "E ="
       ]
      },
      {
       "output_type": "stream",
       "stream": "stdout",
       "text": [
        " -1.12371326414\n",
        "E = -1.12371326025\n",
        "E = -1.12371325661\n",
        "E ="
       ]
      },
      {
       "output_type": "stream",
       "stream": "stdout",
       "text": [
        " -1.1237132532\n",
        "E = -1.12371325001\n",
        "E ="
       ]
      },
      {
       "output_type": "stream",
       "stream": "stdout",
       "text": [
        " -1.12371324701\n",
        "E = -1.12371324421\n",
        "E = -1.12371324158\n",
        "E ="
       ]
      },
      {
       "output_type": "stream",
       "stream": "stdout",
       "text": [
        " -1.12371323912\n",
        "E = -1.12371323681\n",
        "E = -1.12371323465\n",
        "E ="
       ]
      },
      {
       "output_type": "stream",
       "stream": "stdout",
       "text": [
        " -1.12371323263\n",
        "E = -1.12371323073\n",
        "E = -1.12371322896\n",
        "E ="
       ]
      },
      {
       "output_type": "stream",
       "stream": "stdout",
       "text": [
        " -1.1237132273\n",
        "E = -1.12371322575\n",
        "E = -1.12371322429\n",
        "E ="
       ]
      },
      {
       "output_type": "stream",
       "stream": "stdout",
       "text": [
        " -1.12371322293\n",
        "E = -1.12371322165\n",
        "E = -1.12371322046\n",
        "E ="
       ]
      },
      {
       "output_type": "stream",
       "stream": "stdout",
       "text": [
        " -1.12371321934\n",
        "E = -1.1237132183\n",
        "E = -1.12371321732\n",
        "E ="
       ]
      },
      {
       "output_type": "stream",
       "stream": "stdout",
       "text": [
        " -1.1237132164\n",
        "E = -1.12371321555\n",
        "E = -1.12371321475\n",
        "E ="
       ]
      },
      {
       "output_type": "stream",
       "stream": "stdout",
       "text": [
        " -1.123713214\n",
        "E = -1.12371321329\n",
        "E = -1.12371321264\n",
        "E ="
       ]
      },
      {
       "output_type": "stream",
       "stream": "stdout",
       "text": [
        " -1.12371321202\n",
        "E = -1.12371321145\n",
        "E = -1.12371321091\n",
        "E ="
       ]
      },
      {
       "output_type": "stream",
       "stream": "stdout",
       "text": [
        " -1.1237132104\n",
        "E = -1.12371320993\n",
        "E ="
       ]
      },
      {
       "output_type": "stream",
       "stream": "stdout",
       "text": [
        " -1.12371320949\n",
        "E = -1.12371320908\n",
        "E = -1.12371320869\n",
        "E ="
       ]
      },
      {
       "output_type": "stream",
       "stream": "stdout",
       "text": [
        " -1.12371320833\n",
        "E = -1.12371320799\n",
        "E = -1.12371320768\n",
        "E ="
       ]
      },
      {
       "output_type": "stream",
       "stream": "stdout",
       "text": [
        " -1.12371320738\n",
        "E = -1.1237132071\n",
        "E = -1.12371320685\n",
        "E ="
       ]
      },
      {
       "output_type": "stream",
       "stream": "stdout",
       "text": [
        " -1.1237132066\n",
        "E = -1.12371320638\n",
        "E = -1.12371320616\n",
        "E ="
       ]
      },
      {
       "output_type": "stream",
       "stream": "stdout",
       "text": [
        " -1.12371320597\n",
        "E = -1.12371320578\n",
        "E = -1.12371320561\n",
        "E ="
       ]
      },
      {
       "output_type": "stream",
       "stream": "stdout",
       "text": [
        " -1.12371320545\n",
        "E = -1.12371320529\n",
        "E = -1.12371320515\n",
        "E ="
       ]
      },
      {
       "output_type": "stream",
       "stream": "stdout",
       "text": [
        " -1.12371320502\n",
        "E = -1.12371320489\n",
        "E = -1.12371320478\n",
        "E ="
       ]
      },
      {
       "output_type": "stream",
       "stream": "stdout",
       "text": [
        " -1.12371320467\n",
        "E = -1.12371320457\n",
        "E ="
       ]
      },
      {
       "output_type": "stream",
       "stream": "stdout",
       "text": [
        " -1.12371320447\n",
        "E = -1.12371320438\n",
        "E = -1.1237132043\n",
        "E ="
       ]
      },
      {
       "output_type": "stream",
       "stream": "stdout",
       "text": [
        " -1.12371320422\n",
        "E = -1.12371320415\n",
        "E = -1.12371320408\n",
        "E ="
       ]
      },
      {
       "output_type": "stream",
       "stream": "stdout",
       "text": [
        " -1.12371320402\n",
        "E = -1.12371320396\n",
        "E = -1.1237132039\n",
        "E ="
       ]
      },
      {
       "output_type": "stream",
       "stream": "stdout",
       "text": [
        " -1.12371320385\n",
        "E = -1.1237132038\n",
        "E = -1.12371320375\n",
        "E ="
       ]
      },
      {
       "output_type": "stream",
       "stream": "stdout",
       "text": [
        " -1.12371320371\n",
        "E = -1.12371320367\n",
        "E = -1.12371320363\n",
        "E ="
       ]
      },
      {
       "output_type": "stream",
       "stream": "stdout",
       "text": [
        " -1.1237132036\n",
        "E = -1.12371320357\n",
        "E = -1.12371320354\n",
        "E ="
       ]
      },
      {
       "output_type": "stream",
       "stream": "stdout",
       "text": [
        " -1.12371320351\n",
        "E = -1.12371320348\n",
        "E = -1.12371320346\n",
        "E ="
       ]
      },
      {
       "output_type": "stream",
       "stream": "stdout",
       "text": [
        " -1.12371320343\n",
        "E = -1.12371320341\n",
        "E = -1.12371320339\n",
        "E ="
       ]
      },
      {
       "output_type": "stream",
       "stream": "stdout",
       "text": [
        " -1.12371320337\n",
        "E = -1.12371320335\n",
        "E = -1.12371320334\n",
        "E ="
       ]
      },
      {
       "output_type": "stream",
       "stream": "stdout",
       "text": [
        " -1.12371320332\n",
        "E = -1.1237132033\n",
        "E = -1.12371320329\n",
        "E ="
       ]
      },
      {
       "output_type": "stream",
       "stream": "stdout",
       "text": [
        " -1.12371320328\n",
        "E = -1.12371320327\n",
        "E = -1.12371320325\n",
        "E ="
       ]
      },
      {
       "output_type": "stream",
       "stream": "stdout",
       "text": [
        " -1.12371320324\n",
        "E = -1.12371320323\n",
        "E = -1.12371320323\n",
        "E ="
       ]
      },
      {
       "output_type": "stream",
       "stream": "stdout",
       "text": [
        " -1.12371320322\n",
        "E = -1.12371320321\n",
        "E = -1.1237132032\n",
        "E ="
       ]
      },
      {
       "output_type": "stream",
       "stream": "stdout",
       "text": [
        " -1.12371320319\n",
        "E = -1.12371320319\n",
        "E = -1.12371320318\n",
        "E ="
       ]
      },
      {
       "output_type": "stream",
       "stream": "stdout",
       "text": [
        " -1.12371320318\n",
        "E = -1.12371320317\n",
        "E = -1.12371320317\n",
        "E ="
       ]
      },
      {
       "output_type": "stream",
       "stream": "stdout",
       "text": [
        " -1.12371320316\n",
        "E = -1.12371320316\n",
        "E = -1.12371320315\n",
        "E ="
       ]
      },
      {
       "output_type": "stream",
       "stream": "stdout",
       "text": [
        " -1.12371320315\n",
        "E = -1.12371320314\n",
        "E = -1.12371320314\n",
        "E ="
       ]
      },
      {
       "output_type": "stream",
       "stream": "stdout",
       "text": [
        " -1.12371320314\n",
        "E = -1.12371320313\n",
        "E = -1.12371320313\n"
       ]
      },
      {
       "output_type": "stream",
       "stream": "stdout",
       "text": [
        "E = -1.12371320313\n",
        "E = -1.12371320313\n",
        "E = -1.12371320312\n",
        "E ="
       ]
      },
      {
       "output_type": "stream",
       "stream": "stdout",
       "text": [
        " -1.12371320312\n",
        "E = -1.12371320312\n",
        "E = -1.12371320312\n",
        "E ="
       ]
      },
      {
       "output_type": "stream",
       "stream": "stdout",
       "text": [
        " -1.12371320312\n",
        "E = -1.12371320312\n",
        "E = -1.12371320311\n",
        "E ="
       ]
      },
      {
       "output_type": "stream",
       "stream": "stdout",
       "text": [
        " -1.12371320311\n",
        "E = -1.12371320311\n",
        "E = -1.12371320311\n",
        "E ="
       ]
      },
      {
       "output_type": "stream",
       "stream": "stdout",
       "text": [
        " -1.12371320311\n",
        "E = -1.12371320311\n",
        "E = -1.12371320311\n",
        "E ="
       ]
      },
      {
       "output_type": "stream",
       "stream": "stdout",
       "text": [
        " -1.12371320311\n",
        "E = -1.1237132031\n",
        "E = -1.1237132031\n",
        "E ="
       ]
      },
      {
       "output_type": "stream",
       "stream": "stdout",
       "text": [
        " -1.1237132031\n",
        "E = -1.1237132031\n",
        "E = -1.1237132031\n",
        "E ="
       ]
      },
      {
       "output_type": "stream",
       "stream": "stdout",
       "text": [
        " -1.1237132031\n",
        "E = -1.1237132031\n",
        "E ="
       ]
      },
      {
       "output_type": "stream",
       "stream": "stdout",
       "text": [
        " -1.1237132031\n",
        "E = -1.1237132031\n",
        "E = -1.1237132031\n",
        "E ="
       ]
      },
      {
       "output_type": "stream",
       "stream": "stdout",
       "text": [
        " -1.1237132031\n",
        "E = -1.1237132031\n",
        "E = -1.1237132031\n",
        "E ="
       ]
      },
      {
       "output_type": "stream",
       "stream": "stdout",
       "text": [
        " -1.1237132031\n",
        "E = -1.1237132031\n",
        "E = -1.1237132031\n",
        "E ="
       ]
      },
      {
       "output_type": "stream",
       "stream": "stdout",
       "text": [
        " -1.1237132031\n",
        "E = -1.1237132031\n",
        "E = -1.1237132031\n",
        "E ="
       ]
      },
      {
       "output_type": "stream",
       "stream": "stdout",
       "text": [
        " -1.1237132031\n",
        "E = -1.1237132031\n",
        "E = -1.1237132031\n",
        "E ="
       ]
      },
      {
       "output_type": "stream",
       "stream": "stdout",
       "text": [
        " -1.1237132031\n",
        "E = -1.12371320309\n",
        "E = -1.12371320309\n",
        "E ="
       ]
      },
      {
       "output_type": "stream",
       "stream": "stdout",
       "text": [
        " -1.12371320309\n",
        "E = -1.12371320309\n",
        "E = -1.12371320309\n",
        "E ="
       ]
      },
      {
       "output_type": "stream",
       "stream": "stdout",
       "text": [
        " -1.12371320309\n",
        "E = -1.12371320309\n",
        "E ="
       ]
      },
      {
       "output_type": "stream",
       "stream": "stdout",
       "text": [
        " -1.12371320309\n",
        "E = -1.12371320309\n",
        "E ="
       ]
      },
      {
       "output_type": "stream",
       "stream": "stdout",
       "text": [
        " -1.12371320309\n",
        "E = -1.12371320309\n",
        "E ="
       ]
      },
      {
       "output_type": "stream",
       "stream": "stdout",
       "text": [
        " -1.12371320309\n",
        "E = -1.12371320309\n",
        "E = -1.12371320309\n",
        "E ="
       ]
      },
      {
       "output_type": "stream",
       "stream": "stdout",
       "text": [
        " -1.12371320309\n",
        "E = -1.12371320309\n",
        "E = -1.12371320309\n",
        "E ="
       ]
      },
      {
       "output_type": "stream",
       "stream": "stdout",
       "text": [
        " -1.12371320309\n",
        "E = -1.12371320309\n",
        "E = -1.12371320309\n",
        "E ="
       ]
      },
      {
       "output_type": "stream",
       "stream": "stdout",
       "text": [
        " -1.12371320309\n",
        "E = -1.12371320309\n",
        "E = -1.12371320309\n",
        "E ="
       ]
      },
      {
       "output_type": "stream",
       "stream": "stdout",
       "text": [
        " -1.12371320309\n",
        "E = -1.12371320309\n",
        "E = -1.12371320309\n",
        "E ="
       ]
      },
      {
       "output_type": "stream",
       "stream": "stdout",
       "text": [
        " -1.12371320309\n",
        "E = -1.12371320309\n",
        "E = -1.12371320309\n",
        "E ="
       ]
      },
      {
       "output_type": "stream",
       "stream": "stdout",
       "text": [
        " -1.12371320309\n",
        "E = -1.12371320309\n",
        "E = -1.12371320309\n",
        "E ="
       ]
      },
      {
       "output_type": "stream",
       "stream": "stdout",
       "text": [
        " -1.12371320309\n",
        "E = -1.12371320309\n",
        "E ="
       ]
      },
      {
       "output_type": "stream",
       "stream": "stdout",
       "text": [
        " -1.12371320309\n",
        "E = -1.12371320309\n",
        "E = -1.12371320309\n",
        "E ="
       ]
      },
      {
       "output_type": "stream",
       "stream": "stdout",
       "text": [
        " -1.12371320309\n",
        "E = -1.12371320309\n",
        "E = -1.12371320309\n",
        "E ="
       ]
      },
      {
       "output_type": "stream",
       "stream": "stdout",
       "text": [
        " -1.12371320309\n",
        "E = -1.12371320309\n",
        "E = -1.12371320309\n",
        "E ="
       ]
      },
      {
       "output_type": "stream",
       "stream": "stdout",
       "text": [
        " -1.12371320309\n",
        "E = -1.12371320309\n",
        "E = -1.12371320309\n",
        "E ="
       ]
      },
      {
       "output_type": "stream",
       "stream": "stdout",
       "text": [
        " -1.12371320309\n",
        "E = -1.12371320309\n",
        "E = -1.12371320309\n",
        "E ="
       ]
      },
      {
       "output_type": "stream",
       "stream": "stdout",
       "text": [
        " -1.12371320309\n",
        "E = -1.12371320309\n",
        "E = -1.12371320309\n",
        "E ="
       ]
      },
      {
       "output_type": "stream",
       "stream": "stdout",
       "text": [
        " -1.12371320309\n",
        "E = -1.12371320309\n",
        "E = -1.12371320309\n",
        "E ="
       ]
      },
      {
       "output_type": "stream",
       "stream": "stdout",
       "text": [
        " -1.12371320309\n",
        "E = -1.12371320309\n",
        "E = -1.12371320309\n",
        "E ="
       ]
      },
      {
       "output_type": "stream",
       "stream": "stdout",
       "text": [
        " -1.12371320309\n",
        "E = -1.12371320309\n",
        "E = -1.12371320309\n",
        "E ="
       ]
      },
      {
       "output_type": "stream",
       "stream": "stdout",
       "text": [
        " -1.12371320309\n",
        "E = -1.12371320309\n",
        "E = -1.12371320309\n",
        "E ="
       ]
      },
      {
       "output_type": "stream",
       "stream": "stdout",
       "text": [
        " -1.12371320309\n",
        "E = -1.12371320309\n",
        "E = -1.12371320309\n",
        "E ="
       ]
      },
      {
       "output_type": "stream",
       "stream": "stdout",
       "text": [
        " -1.12371320309\n",
        "E = -1.12371320309\n",
        "E = -1.12371320309\n",
        "E ="
       ]
      },
      {
       "output_type": "stream",
       "stream": "stdout",
       "text": [
        " -1.12371320309\n",
        "E = -1.12371320309\n",
        "E = -1.12371320309\n",
        "E ="
       ]
      },
      {
       "output_type": "stream",
       "stream": "stdout",
       "text": [
        " -1.12371320309\n",
        "E = -1.12371320309\n",
        "E = -1.12371320309\n",
        "E ="
       ]
      },
      {
       "output_type": "stream",
       "stream": "stdout",
       "text": [
        " -1.12371320309\n",
        "E = -1.12371320309\n",
        "E = -1.12371320309\n",
        "E ="
       ]
      },
      {
       "output_type": "stream",
       "stream": "stdout",
       "text": [
        " -1.12371320309\n",
        "E = -1.12371320309\n",
        "E = -1.12371320309\n",
        "E ="
       ]
      },
      {
       "output_type": "stream",
       "stream": "stdout",
       "text": [
        " -1.12371320309\n",
        "E = -1.12371320309\n",
        "E = -1.12371320309\n",
        "E ="
       ]
      },
      {
       "output_type": "stream",
       "stream": "stdout",
       "text": [
        " -1.12371320309\n",
        "E = -1.12371320309\n",
        "E = -1.12371320309\n",
        "E ="
       ]
      },
      {
       "output_type": "stream",
       "stream": "stdout",
       "text": [
        " -1.12371320309\n",
        "E = -1.12371320309\n",
        "E = -1.12371320309\n",
        "E ="
       ]
      },
      {
       "output_type": "stream",
       "stream": "stdout",
       "text": [
        " -1.12371320309\n",
        "E = -1.12371320309\n",
        "E = -1.12371320309"
       ]
      },
      {
       "output_type": "stream",
       "stream": "stdout",
       "text": [
        "\n",
        "E = -1.12371320309\n",
        "E = -1.12371320309\n",
        "E ="
       ]
      },
      {
       "output_type": "stream",
       "stream": "stdout",
       "text": [
        " -1.12371320309\n",
        "E = -1.12371320309\n",
        "E = -1.12371320309\n",
        "E ="
       ]
      },
      {
       "output_type": "stream",
       "stream": "stdout",
       "text": [
        " -1.12371320309\n",
        "E = -1.12371320309\n",
        "E = -1.12371320309\n",
        "E ="
       ]
      },
      {
       "output_type": "stream",
       "stream": "stdout",
       "text": [
        " -1.12371320309\n",
        "E = -1.12371320309\n",
        "E = -1.12371320309\n",
        "E ="
       ]
      },
      {
       "output_type": "stream",
       "stream": "stdout",
       "text": [
        " -1.12371320309\n",
        "E = -1.12371320309\n",
        "E = -1.12371320309\n",
        "E ="
       ]
      },
      {
       "output_type": "stream",
       "stream": "stdout",
       "text": [
        " -1.12371320309\n",
        "E = -1.12371320309\n",
        "E = -1.12371320309\n",
        "E ="
       ]
      },
      {
       "output_type": "stream",
       "stream": "stdout",
       "text": [
        " -1.12371320309\n",
        "E = -1.12371320309\n",
        "E = -1.12371320309\n",
        "E ="
       ]
      },
      {
       "output_type": "stream",
       "stream": "stdout",
       "text": [
        " -1.12371320309\n",
        "E = -1.12371320309\n",
        "E = -1.12371320309\n",
        "E ="
       ]
      },
      {
       "output_type": "stream",
       "stream": "stdout",
       "text": [
        " -1.12371320309\n",
        "E = -1.12371320309\n",
        "E = -1.12371320309\n",
        "E ="
       ]
      },
      {
       "output_type": "stream",
       "stream": "stdout",
       "text": [
        " -1.12371320309\n",
        "E = -1.12371320309\n",
        "E = -1.12371320309\n",
        "E ="
       ]
      },
      {
       "output_type": "stream",
       "stream": "stdout",
       "text": [
        " -1.12371320309\n",
        "E = -1.12371320309\n",
        "E = -1.12371320309\n",
        "E ="
       ]
      },
      {
       "output_type": "stream",
       "stream": "stdout",
       "text": [
        " -1.12371320309\n",
        "E = -1.12371320309\n",
        "E = -1.12371320309\n",
        "E ="
       ]
      },
      {
       "output_type": "stream",
       "stream": "stdout",
       "text": [
        " -1.12371320309\n",
        "E = -1.12371320309\n",
        "E = -1.12371320309\n",
        "E ="
       ]
      },
      {
       "output_type": "stream",
       "stream": "stdout",
       "text": [
        " -1.12371320309\n",
        "E = -1.12371320309\n",
        "E = -1.12371320309\n",
        "E ="
       ]
      },
      {
       "output_type": "stream",
       "stream": "stdout",
       "text": [
        " -1.12371320309\n",
        "E = -1.12371320309\n",
        "E = -1.12371320309\n",
        "E ="
       ]
      },
      {
       "output_type": "stream",
       "stream": "stdout",
       "text": [
        " -1.12371320309\n",
        "E = -1.12371320309\n",
        "E = -1.12371320309\n",
        "E ="
       ]
      },
      {
       "output_type": "stream",
       "stream": "stdout",
       "text": [
        " -1.12371320309\n",
        "E = -1.12371320309\n",
        "E = -1.12371320309\n",
        "E ="
       ]
      },
      {
       "output_type": "stream",
       "stream": "stdout",
       "text": [
        " -1.12371320309\n",
        "E = -1.12371320309\n",
        "E = -1.12371320309\n",
        "E ="
       ]
      },
      {
       "output_type": "stream",
       "stream": "stdout",
       "text": [
        " -1.12371320309\n",
        "E = -1.12371320309\n",
        "E = -1.12371320309\n",
        "E ="
       ]
      },
      {
       "output_type": "stream",
       "stream": "stdout",
       "text": [
        " -1.12371320309\n",
        "E = -1.12371320309\n",
        "E = -1.12371320309\n",
        "E ="
       ]
      },
      {
       "output_type": "stream",
       "stream": "stdout",
       "text": [
        " -1.12371320309\n",
        "E = -1.12371320309\n",
        "E = -1.12371320309\n",
        "E ="
       ]
      },
      {
       "output_type": "stream",
       "stream": "stdout",
       "text": [
        " -1.12371320309\n",
        "E = -1.12371320309\n",
        "E = -1.12371320309\n",
        "E ="
       ]
      },
      {
       "output_type": "stream",
       "stream": "stdout",
       "text": [
        " -1.12371320309\n",
        "E = -1.12371320309\n",
        "E = -1.12371320309\n",
        "E ="
       ]
      },
      {
       "output_type": "stream",
       "stream": "stdout",
       "text": [
        " -1.12371320309\n",
        "E = -1.12371320309\n",
        "E = -1.12371320309\n",
        "E ="
       ]
      },
      {
       "output_type": "stream",
       "stream": "stdout",
       "text": [
        " -1.12371320309\n",
        "E = -1.12371320309\n",
        "E = -1.12371320309\n",
        "E ="
       ]
      },
      {
       "output_type": "stream",
       "stream": "stdout",
       "text": [
        " -1.12371320309\n",
        "E = -1.12371320309\n",
        "E = -1.12371320309\n",
        "E ="
       ]
      },
      {
       "output_type": "stream",
       "stream": "stdout",
       "text": [
        " -1.12371320309\n",
        "E = -1.12371320309\n",
        "E = -1.12371320309\n",
        "E ="
       ]
      },
      {
       "output_type": "stream",
       "stream": "stdout",
       "text": [
        " -1.12371320309\n",
        "E = -1.12371320309\n",
        "E = -1.12371320309\n",
        "E ="
       ]
      },
      {
       "output_type": "stream",
       "stream": "stdout",
       "text": [
        " -1.12371320309\n",
        "E = -1.12371320309\n",
        "E = -1.12371320309\n",
        "E ="
       ]
      },
      {
       "output_type": "stream",
       "stream": "stdout",
       "text": [
        " -1.12371320309\n",
        "E = -1.12371320309\n",
        "E = -1.12371320309\n",
        "E ="
       ]
      },
      {
       "output_type": "stream",
       "stream": "stdout",
       "text": [
        " -1.12371320309\n",
        "E = -1.12371320309\n",
        "E = -1.12371320309\n",
        "E ="
       ]
      },
      {
       "output_type": "stream",
       "stream": "stdout",
       "text": [
        " -1.12371320309\n",
        "E = -1.12371320309\n",
        "E = -1.12371320309\n",
        "E ="
       ]
      },
      {
       "output_type": "stream",
       "stream": "stdout",
       "text": [
        " -1.12371320309\n",
        "E = -1.12371320309\n",
        "E = -1.12371320309\n",
        "E ="
       ]
      },
      {
       "output_type": "stream",
       "stream": "stdout",
       "text": [
        " -1.12371320309\n",
        "E = -1.12371320309\n",
        "E = -1.12371320309\n",
        "E ="
       ]
      },
      {
       "output_type": "stream",
       "stream": "stdout",
       "text": [
        " -1.12371320309\n",
        "E = -1.12371320309\n",
        "E = -1.12371320309\n",
        "E ="
       ]
      },
      {
       "output_type": "stream",
       "stream": "stdout",
       "text": [
        " -1.12371320309\n",
        "E = -1.12371320309\n",
        "E = -1.12371320309\n",
        "E ="
       ]
      },
      {
       "output_type": "stream",
       "stream": "stdout",
       "text": [
        " -1.12371320309\n",
        "E = -1.12371320309\n",
        "E = -1.12371320309\n",
        "E ="
       ]
      },
      {
       "output_type": "stream",
       "stream": "stdout",
       "text": [
        " -1.12371320309\n",
        "E = -1.12371320309\n",
        "E = -1.12371320309\n",
        "E ="
       ]
      },
      {
       "output_type": "stream",
       "stream": "stdout",
       "text": [
        " -1.12371320309\n",
        "E = -1.12371320309\n",
        "E = -1.12371320309\n",
        "E ="
       ]
      },
      {
       "output_type": "stream",
       "stream": "stdout",
       "text": [
        " -1.12371320309\n",
        "E = -1.12371320309\n",
        "E = -1.12371320309\n",
        "E ="
       ]
      },
      {
       "output_type": "stream",
       "stream": "stdout",
       "text": [
        " -1.12371320309\n",
        "E = -1.12371320309\n",
        "E = -1.12371320309\n",
        "E ="
       ]
      },
      {
       "output_type": "stream",
       "stream": "stdout",
       "text": [
        " -1.12371320309\n",
        "E = -1.12371320309\n",
        "E = -1.12371320309\n",
        "E ="
       ]
      },
      {
       "output_type": "stream",
       "stream": "stdout",
       "text": [
        " -1.12371320309\n",
        "E = -1.12371320309\n",
        "E = -1.12371320309\n",
        "E ="
       ]
      },
      {
       "output_type": "stream",
       "stream": "stdout",
       "text": [
        " -1.12371320309\n",
        "E = -1.12371320309\n",
        "E = -1.12371320309\n",
        "E ="
       ]
      },
      {
       "output_type": "stream",
       "stream": "stdout",
       "text": [
        " -1.12371320309\n",
        "E = -1.12371320309\n",
        "E = -1.12371320309\n",
        "E ="
       ]
      },
      {
       "output_type": "stream",
       "stream": "stdout",
       "text": [
        " -1.12371320309\n",
        "E = -1.12371320309\n",
        "E = -1.12371320309\n",
        "E ="
       ]
      },
      {
       "output_type": "stream",
       "stream": "stdout",
       "text": [
        " -1.12371320309\n",
        "E = -1.12371320309\n",
        "E = -1.12371320309\n",
        "E ="
       ]
      },
      {
       "output_type": "stream",
       "stream": "stdout",
       "text": [
        " -1.12371320309\n",
        "E = -1.12371320309\n",
        "E = -1.12371320309\n",
        "E ="
       ]
      },
      {
       "output_type": "stream",
       "stream": "stdout",
       "text": [
        " -1.12371320309\n",
        "E = -1.12371320309\n",
        "E = -1.12371320309\n",
        "E ="
       ]
      },
      {
       "output_type": "stream",
       "stream": "stdout",
       "text": [
        " -1.12371320309\n",
        "E = -1.12371320309\n",
        "E = -1.12371320309\n",
        "E ="
       ]
      },
      {
       "output_type": "stream",
       "stream": "stdout",
       "text": [
        " -1.12371320309\n",
        "E = -1.12371320309\n",
        "E = -1.12371320309\n",
        "E ="
       ]
      },
      {
       "output_type": "stream",
       "stream": "stdout",
       "text": [
        " -1.12371320309\n",
        "E = -1.12371320309\n",
        "E = -1.12371320309\n",
        "E ="
       ]
      },
      {
       "output_type": "stream",
       "stream": "stdout",
       "text": [
        " -1.12371320309\n",
        "E = -1.12371320309\n",
        "E = -1.12371320309\n",
        "E ="
       ]
      },
      {
       "output_type": "stream",
       "stream": "stdout",
       "text": [
        " -1.12371320309\n",
        "E = -1.12371320309\n",
        "E = -1.12371320309\n",
        "E ="
       ]
      },
      {
       "output_type": "stream",
       "stream": "stdout",
       "text": [
        " -1.12371320309\n",
        "E = -1.12371320309\n",
        "E = -1.12371320309\n",
        "E ="
       ]
      },
      {
       "output_type": "stream",
       "stream": "stdout",
       "text": [
        " -1.12371320309\n",
        "E = -1.12371320309\n",
        "E = -1.12371320309\n",
        "E ="
       ]
      },
      {
       "output_type": "stream",
       "stream": "stdout",
       "text": [
        " -1.12371320309\n",
        "E = -1.12371320309\n",
        "E = -1.12371320309\n",
        "E ="
       ]
      },
      {
       "output_type": "stream",
       "stream": "stdout",
       "text": [
        " -1.12371320309\n",
        "E = -1.12371320309\n",
        "E = -1.12371320309\n",
        "E ="
       ]
      },
      {
       "output_type": "stream",
       "stream": "stdout",
       "text": [
        " -1.12371320309\n",
        "E = -1.12371320309\n",
        "E ="
       ]
      },
      {
       "output_type": "stream",
       "stream": "stdout",
       "text": [
        " -1.12371320309\n",
        "E = -1.12371320309\n",
        "E = -1.12371320309\n",
        "E ="
       ]
      },
      {
       "output_type": "stream",
       "stream": "stdout",
       "text": [
        " -1.12371320309\n",
        "E = -1.12371320309\n",
        "E = -1.12371320309\n",
        "E ="
       ]
      },
      {
       "output_type": "stream",
       "stream": "stdout",
       "text": [
        " -1.12371320309\n",
        "E = -1.12371320309\n",
        "E = -1.12371320309\n",
        "E ="
       ]
      },
      {
       "output_type": "stream",
       "stream": "stdout",
       "text": [
        " -1.12371320309\n",
        "E = -1.12371320309\n",
        "E = -1.12371320309\n",
        "E ="
       ]
      },
      {
       "output_type": "stream",
       "stream": "stdout",
       "text": [
        " -1.12371320309\n",
        "E = -1.12371320309\n",
        "E = -1.12371320309\n",
        "E ="
       ]
      },
      {
       "output_type": "stream",
       "stream": "stdout",
       "text": [
        " -1.12371320309\n",
        "E = -1.12371320309\n",
        "E = -1.12371320309\n",
        "E ="
       ]
      },
      {
       "output_type": "stream",
       "stream": "stdout",
       "text": [
        " -1.12371320309\n",
        "E = -1.12371320309\n",
        "E = -1.12371320309\n",
        "E ="
       ]
      },
      {
       "output_type": "stream",
       "stream": "stdout",
       "text": [
        " -1.12371320309\n",
        "E = -1.12371320309\n",
        "E = -1.12371320309\n",
        "E ="
       ]
      },
      {
       "output_type": "stream",
       "stream": "stdout",
       "text": [
        " -1.12371320309\n",
        "E = -1.12371320309\n",
        "E = -1.12371320309\n",
        "E ="
       ]
      },
      {
       "output_type": "stream",
       "stream": "stdout",
       "text": [
        " -1.12371320309\n",
        "E = -1.12371320309\n",
        "E = -1.12371320309\n",
        "E ="
       ]
      },
      {
       "output_type": "stream",
       "stream": "stdout",
       "text": [
        " -1.12371320309\n",
        "E = -1.12371320309\n",
        "E = -1.12371320309\n",
        "E ="
       ]
      },
      {
       "output_type": "stream",
       "stream": "stdout",
       "text": [
        " -1.12371320309\n",
        "E = -1.12371320309\n",
        "E = -1.12371320309\n",
        "E ="
       ]
      },
      {
       "output_type": "stream",
       "stream": "stdout",
       "text": [
        " -1.12371320309\n",
        "E = -1.12371320309\n",
        "E = -1.12371320309\n",
        "E ="
       ]
      },
      {
       "output_type": "stream",
       "stream": "stdout",
       "text": [
        " -1.12371320309\n",
        "E = -1.12371320309\n",
        "E = -1.12371320309\n",
        "E ="
       ]
      },
      {
       "output_type": "stream",
       "stream": "stdout",
       "text": [
        " -1.12371320309\n",
        "E = -1.12371320309\n",
        "E = -1.12371320309\n",
        "E ="
       ]
      },
      {
       "output_type": "stream",
       "stream": "stdout",
       "text": [
        " -1.12371320309\n",
        "E = -1.12371320309\n",
        "E = -1.12371320309\n",
        "E ="
       ]
      },
      {
       "output_type": "stream",
       "stream": "stdout",
       "text": [
        " -1.12371320309\n",
        "E = -1.12371320309\n",
        "E = -1.12371320309\n",
        "E ="
       ]
      },
      {
       "output_type": "stream",
       "stream": "stdout",
       "text": [
        " -1.12371320309\n",
        "E = -1.12371320309\n",
        "E = -1.12371320309\n",
        "E ="
       ]
      },
      {
       "output_type": "stream",
       "stream": "stdout",
       "text": [
        " -1.12371320309\n",
        "E = -1.12371320309\n",
        "E = -1.12371320309\n",
        "E ="
       ]
      },
      {
       "output_type": "stream",
       "stream": "stdout",
       "text": [
        " -1.12371320309\n",
        "E = -1.12371320309\n",
        "E = -1.12371320309\n",
        "E ="
       ]
      },
      {
       "output_type": "stream",
       "stream": "stdout",
       "text": [
        " -1.12371320309\n",
        "E = -1.12371320309\n",
        "E = -1.12371320309\n",
        "E ="
       ]
      },
      {
       "output_type": "stream",
       "stream": "stdout",
       "text": [
        " -1.12371320309\n",
        "E = -1.12371320309\n",
        "E = -1.12371320309\n",
        "E ="
       ]
      },
      {
       "output_type": "stream",
       "stream": "stdout",
       "text": [
        " -1.12371320309\n",
        "E = -1.12371320309\n",
        "E = -1.12371320309\n",
        "E ="
       ]
      },
      {
       "output_type": "stream",
       "stream": "stdout",
       "text": [
        " -1.12371320309\n",
        "E = -1.12371320309\n",
        "E = -1.12371320309\n",
        "E ="
       ]
      },
      {
       "output_type": "stream",
       "stream": "stdout",
       "text": [
        " -1.12371320309\n",
        "E = -1.12371320309\n",
        "E = -1.12371320309\n",
        "E ="
       ]
      },
      {
       "output_type": "stream",
       "stream": "stdout",
       "text": [
        " -1.12371320309\n",
        "E = -1.12371320309\n",
        "E = -1.12371320309\n",
        "E ="
       ]
      },
      {
       "output_type": "stream",
       "stream": "stdout",
       "text": [
        " -1.12371320309\n",
        "E = -1.12371320309\n",
        "E = -1.12371320309\n",
        "E ="
       ]
      },
      {
       "output_type": "stream",
       "stream": "stdout",
       "text": [
        " -1.12371320309\n",
        "E = -1.12371320309\n",
        "E = -1.12371320309\n",
        "E ="
       ]
      },
      {
       "output_type": "stream",
       "stream": "stdout",
       "text": [
        " -1.12371320309\n",
        "E = -1.12371320309\n",
        "E = -1.12371320309\n",
        "E ="
       ]
      },
      {
       "output_type": "stream",
       "stream": "stdout",
       "text": [
        " -1.12371320309\n",
        "E = -1.12371320309\n",
        "E = -1.12371320309\n",
        "E ="
       ]
      },
      {
       "output_type": "stream",
       "stream": "stdout",
       "text": [
        " -1.12371320309\n",
        "E = -1.12371320309\n",
        "E = -1.12371320309\n",
        "E ="
       ]
      },
      {
       "output_type": "stream",
       "stream": "stdout",
       "text": [
        " -1.12371320309\n",
        "E = -1.12371320309\n",
        "E = -1.12371320309\n",
        "E ="
       ]
      },
      {
       "output_type": "stream",
       "stream": "stdout",
       "text": [
        " -1.12371320309\n",
        "E = -1.12371320309\n",
        "E = -1.12371320309\n",
        "E ="
       ]
      },
      {
       "output_type": "stream",
       "stream": "stdout",
       "text": [
        " -1.12371320309\n",
        "E = -1.12371320309\n",
        "E = -1.12371320309\n",
        "E ="
       ]
      },
      {
       "output_type": "stream",
       "stream": "stdout",
       "text": [
        " -1.12371320309\n",
        "E = -1.12371320309\n",
        "E = -1.12371320309\n",
        "E ="
       ]
      },
      {
       "output_type": "stream",
       "stream": "stdout",
       "text": [
        " -1.12371320309\n",
        "E = -1.12371320309\n",
        "E = -1.12371320309\n",
        "E ="
       ]
      },
      {
       "output_type": "stream",
       "stream": "stdout",
       "text": [
        " -1.12371320309\n",
        "E = -1.12371320309\n",
        "E = -1.12371320309\n",
        "E ="
       ]
      },
      {
       "output_type": "stream",
       "stream": "stdout",
       "text": [
        " -1.12371320309\n",
        "E = -1.12371320309\n",
        "E = -1.12371320309\n",
        "E ="
       ]
      },
      {
       "output_type": "stream",
       "stream": "stdout",
       "text": [
        " -1.12371320309\n",
        "E = -1.12371320309\n",
        "E = -1.12371320309\n",
        "E ="
       ]
      },
      {
       "output_type": "stream",
       "stream": "stdout",
       "text": [
        " -1.12371320309\n",
        "E = -1.12371320309\n",
        "E = -1.12371320309\n",
        "E ="
       ]
      },
      {
       "output_type": "stream",
       "stream": "stdout",
       "text": [
        " -1.12371320309\n",
        "E = -1.12371320309\n",
        "E = -1.12371320309\n",
        "E ="
       ]
      },
      {
       "output_type": "stream",
       "stream": "stdout",
       "text": [
        " -1.12371320309\n",
        "E = -1.12371320309\n",
        "E = -1.12371320309\n",
        "E ="
       ]
      },
      {
       "output_type": "stream",
       "stream": "stdout",
       "text": [
        " -1.12371320309\n",
        "E = -1.12371320309\n",
        "E = -1.12371320309\n",
        "E ="
       ]
      },
      {
       "output_type": "stream",
       "stream": "stdout",
       "text": [
        " -1.12371320309\n",
        "E = -1.12371320309\n",
        "E = -1.12371320309\n",
        "E ="
       ]
      },
      {
       "output_type": "stream",
       "stream": "stdout",
       "text": [
        " -1.12371320309\n",
        "E = -1.12371320309\n",
        "E = -1.12371320309\n",
        "E ="
       ]
      },
      {
       "output_type": "stream",
       "stream": "stdout",
       "text": [
        " -1.12371320309\n",
        "E = -1.12371320309\n",
        "E = -1.12371320309\n",
        "E ="
       ]
      },
      {
       "output_type": "stream",
       "stream": "stdout",
       "text": [
        " -1.12371320309\n",
        "E = -1.12371320309\n",
        "E = -1.12371320309\n",
        "E ="
       ]
      },
      {
       "output_type": "stream",
       "stream": "stdout",
       "text": [
        " -1.12371320309\n",
        "E = -1.12371320309\n",
        "E = -1.12371320309\n",
        "E ="
       ]
      },
      {
       "output_type": "stream",
       "stream": "stdout",
       "text": [
        " -1.12371320309\n",
        "E = -1.12371320309\n",
        "E = -1.12371320309\n",
        "E ="
       ]
      },
      {
       "output_type": "stream",
       "stream": "stdout",
       "text": [
        " -1.12371320309\n",
        "E = -1.12371320309\n",
        "E = -1.12371320309\n",
        "E ="
       ]
      },
      {
       "output_type": "stream",
       "stream": "stdout",
       "text": [
        " -1.12371320309\n",
        "E = -1.12371320309\n",
        "E = -1.12371320309\n",
        "E ="
       ]
      },
      {
       "output_type": "stream",
       "stream": "stdout",
       "text": [
        " -1.12371320309\n",
        "E = -1.12371320309\n",
        "E = -1.12371320309\n",
        "E ="
       ]
      },
      {
       "output_type": "stream",
       "stream": "stdout",
       "text": [
        " -1.12371320309\n",
        "E = -1.12371320309\n",
        "E = -1.12371320309\n",
        "E ="
       ]
      },
      {
       "output_type": "stream",
       "stream": "stdout",
       "text": [
        " -1.12371320309\n",
        "E = -1.12371320309\n",
        "E = -1.12371320309\n",
        "E ="
       ]
      },
      {
       "output_type": "stream",
       "stream": "stdout",
       "text": [
        " -1.12371320309\n",
        "E = -1.12371320309\n",
        "E = -1.12371320309\n",
        "E ="
       ]
      },
      {
       "output_type": "stream",
       "stream": "stdout",
       "text": [
        " -1.12371320309\n",
        "E = -1.12371320309\n",
        "E = -1.12371320309\n",
        "E ="
       ]
      },
      {
       "output_type": "stream",
       "stream": "stdout",
       "text": [
        " -1.12371320309\n",
        "E = -1.12371320309\n",
        "E = -1.12371320309\n",
        "E ="
       ]
      },
      {
       "output_type": "stream",
       "stream": "stdout",
       "text": [
        " -1.12371320309\n",
        "E = -1.12371320309\n",
        "E = -1.12371320309\n",
        "E ="
       ]
      },
      {
       "output_type": "stream",
       "stream": "stdout",
       "text": [
        " -1.12371320309\n",
        "E = -1.12371320309\n",
        "E = -1.12371320309\n",
        "E ="
       ]
      },
      {
       "output_type": "stream",
       "stream": "stdout",
       "text": [
        " -1.12371320309\n",
        "E = -1.12371320309\n",
        "E = -1.12371320309\n",
        "E ="
       ]
      },
      {
       "output_type": "stream",
       "stream": "stdout",
       "text": [
        " -1.12371320309\n",
        "E = -1.12371320309\n",
        "E = -1.12371320309\n",
        "E ="
       ]
      },
      {
       "output_type": "stream",
       "stream": "stdout",
       "text": [
        " -1.12371320309\n",
        "E = -1.12371320309\n",
        "E = -1.12371320309\n",
        "E ="
       ]
      },
      {
       "output_type": "stream",
       "stream": "stdout",
       "text": [
        " -1.12371320309\n",
        "E = -1.12371320309\n",
        "E = -1.12371320309\n",
        "E ="
       ]
      },
      {
       "output_type": "stream",
       "stream": "stdout",
       "text": [
        " -1.12371320309\n",
        "E = -1.12371320309\n",
        "E = -1.12371320309\n",
        "E ="
       ]
      },
      {
       "output_type": "stream",
       "stream": "stdout",
       "text": [
        " -1.12371320309\n",
        "E = -1.12371320309\n",
        "E = -1.12371320309\n",
        "E ="
       ]
      },
      {
       "output_type": "stream",
       "stream": "stdout",
       "text": [
        " -1.12371320309\n",
        "E = -1.12371320309\n",
        "E = -1.12371320309\n",
        "E ="
       ]
      },
      {
       "output_type": "stream",
       "stream": "stdout",
       "text": [
        " -1.12371320309\n",
        "E = -1.12371320309\n",
        "E = -1.12371320309\n",
        "E ="
       ]
      },
      {
       "output_type": "stream",
       "stream": "stdout",
       "text": [
        " -1.12371320309\n",
        "E = -1.12371320309\n",
        "E = -1.12371320309\n",
        "E ="
       ]
      },
      {
       "output_type": "stream",
       "stream": "stdout",
       "text": [
        " -1.12371320309\n",
        "E = -1.12371320309\n",
        "E = -1.12371320309\n",
        "E ="
       ]
      },
      {
       "output_type": "stream",
       "stream": "stdout",
       "text": [
        " -1.12371320309\n",
        "E = -1.12371320309\n",
        "E = -1.12371320309\n",
        "E ="
       ]
      },
      {
       "output_type": "stream",
       "stream": "stdout",
       "text": [
        " -1.12371320309\n",
        "E = -1.12371320309\n",
        "E = -1.12371320309\n",
        "E ="
       ]
      },
      {
       "output_type": "stream",
       "stream": "stdout",
       "text": [
        " -1.12371320309\n",
        "E = -1.12371320309\n",
        "E = -1.12371320309\n",
        "E ="
       ]
      },
      {
       "output_type": "stream",
       "stream": "stdout",
       "text": [
        " -1.12371320309\n",
        "E = -1.12371320309\n",
        "E = -1.12371320309\n",
        "E ="
       ]
      },
      {
       "output_type": "stream",
       "stream": "stdout",
       "text": [
        " -1.12371320309\n",
        "E = -1.12371320309\n",
        "E = -1.12371320309\n",
        "E ="
       ]
      },
      {
       "output_type": "stream",
       "stream": "stdout",
       "text": [
        " -1.12371320309\n",
        "E = -1.12371320309\n",
        "E = -1.12371320309\n",
        "E ="
       ]
      },
      {
       "output_type": "stream",
       "stream": "stdout",
       "text": [
        " -1.12371320309\n",
        "E = -1.12371320309\n",
        "E = -1.12371320309\n",
        "E ="
       ]
      },
      {
       "output_type": "stream",
       "stream": "stdout",
       "text": [
        " -1.12371320309\n",
        "E = -1.12371320309\n",
        "E = -1.12371320309\n",
        "E ="
       ]
      },
      {
       "output_type": "stream",
       "stream": "stdout",
       "text": [
        " -1.12371320309\n",
        "E = -1.12371320309\n",
        "E = -1.12371320309\n",
        "E ="
       ]
      },
      {
       "output_type": "stream",
       "stream": "stdout",
       "text": [
        " -1.12371320309\n",
        "E = -1.12371320309\n",
        "E = -1.12371320309\n",
        "E ="
       ]
      },
      {
       "output_type": "stream",
       "stream": "stdout",
       "text": [
        " -1.12371320309\n",
        "E = -1.12371320309\n",
        "E = -1.12371320309\n",
        "E ="
       ]
      },
      {
       "output_type": "stream",
       "stream": "stdout",
       "text": [
        " -1.12371320309\n",
        "E = -1.12371320309\n",
        "E = -1.12371320309\n",
        "E ="
       ]
      },
      {
       "output_type": "stream",
       "stream": "stdout",
       "text": [
        " -1.12371320309\n",
        "E = -1.12371320309\n",
        "E = -1.12371320309\n",
        "E ="
       ]
      },
      {
       "output_type": "stream",
       "stream": "stdout",
       "text": [
        " -1.12371320309\n",
        "E = -1.12371320309\n",
        "E = -1.12371320309\n",
        "E ="
       ]
      },
      {
       "output_type": "stream",
       "stream": "stdout",
       "text": [
        " -1.12371320309\n",
        "E = -1.12371320309\n",
        "E = -1.12371320309\n",
        "E ="
       ]
      },
      {
       "output_type": "stream",
       "stream": "stdout",
       "text": [
        " -1.12371320309\n",
        "E = -1.12371320309\n",
        "E = -1.12371320309\n",
        "E ="
       ]
      },
      {
       "output_type": "stream",
       "stream": "stdout",
       "text": [
        " -1.12371320309\n",
        "E = -1.12371320309\n",
        "E = -1.12371320309\n",
        "E ="
       ]
      },
      {
       "output_type": "stream",
       "stream": "stdout",
       "text": [
        " -1.12371320309\n",
        "E = -1.12371320309\n",
        "E = -1.12371320309\n",
        "E ="
       ]
      },
      {
       "output_type": "stream",
       "stream": "stdout",
       "text": [
        " -1.12371320309\n",
        "E = -1.12371320309\n",
        "E = -1.12371320309\n",
        "E ="
       ]
      },
      {
       "output_type": "stream",
       "stream": "stdout",
       "text": [
        " -1.12371320309\n",
        "E = -1.12371320309\n",
        "E = -1.12371320309\n",
        "E ="
       ]
      },
      {
       "output_type": "stream",
       "stream": "stdout",
       "text": [
        " -1.12371320309\n",
        "E = -1.12371320309\n",
        "E = -1.12371320309\n",
        "E ="
       ]
      },
      {
       "output_type": "stream",
       "stream": "stdout",
       "text": [
        " -1.12371320309\n",
        "E = -1.12371320309\n",
        "E = -1.12371320309\n",
        "E ="
       ]
      },
      {
       "output_type": "stream",
       "stream": "stdout",
       "text": [
        " -1.12371320309\n",
        "E = -1.12371320309\n",
        "E = -1.12371320309\n",
        "E ="
       ]
      },
      {
       "output_type": "stream",
       "stream": "stdout",
       "text": [
        " -1.12371320309\n",
        "E = -1.12371320309\n",
        "E = -1.12371320309\n",
        "E ="
       ]
      },
      {
       "output_type": "stream",
       "stream": "stdout",
       "text": [
        " -1.12371320309\n",
        "E = -1.12371320309\n",
        "E = -1.12371320309\n",
        "E ="
       ]
      },
      {
       "output_type": "stream",
       "stream": "stdout",
       "text": [
        " -1.12371320309\n",
        "E = -1.12371320309\n",
        "E = -1.12371320309\n",
        "E ="
       ]
      },
      {
       "output_type": "stream",
       "stream": "stdout",
       "text": [
        " -1.12371320309\n",
        "E = -1.12371320309\n",
        "E = -1.12371320309\n",
        "E ="
       ]
      },
      {
       "output_type": "stream",
       "stream": "stdout",
       "text": [
        " -1.12371320309\n",
        "E = -1.12371320309\n",
        "E = -1.12371320309\n",
        "E ="
       ]
      },
      {
       "output_type": "stream",
       "stream": "stdout",
       "text": [
        " -1.12371320309\n",
        "E = -1.12371320309\n",
        "E = -1.12371320309\n",
        "E ="
       ]
      },
      {
       "output_type": "stream",
       "stream": "stdout",
       "text": [
        " -1.12371320309\n",
        "E = -1.12371320309\n",
        "E = -1.12371320309\n",
        "E ="
       ]
      },
      {
       "output_type": "stream",
       "stream": "stdout",
       "text": [
        " -1.12371320309\n",
        "E = -1.12371320309\n",
        "E = -1.12371320309\n",
        "E ="
       ]
      },
      {
       "output_type": "stream",
       "stream": "stdout",
       "text": [
        " -1.12371320309\n",
        "E = -1.12371320309\n",
        "E = -1.12371320309\n",
        "E ="
       ]
      },
      {
       "output_type": "stream",
       "stream": "stdout",
       "text": [
        " -1.12371320309\n",
        "E = -1.12371320309\n",
        "E = -1.12371320309\n",
        "E ="
       ]
      },
      {
       "output_type": "stream",
       "stream": "stdout",
       "text": [
        " -1.12371320309\n",
        "E = -1.12371320309\n",
        "E = -1.12371320309\n",
        "E ="
       ]
      },
      {
       "output_type": "stream",
       "stream": "stdout",
       "text": [
        " -1.12371320309\n",
        "E = -1.12371320309\n",
        "E = -1.12371320309\n",
        "E ="
       ]
      },
      {
       "output_type": "stream",
       "stream": "stdout",
       "text": [
        " -1.12371320309\n",
        "E = -1.12371320309\n",
        "E = -1.12371320309\n",
        "E ="
       ]
      },
      {
       "output_type": "stream",
       "stream": "stdout",
       "text": [
        " -1.12371320309\n",
        "E = -1.12371320309\n",
        "E = -1.12371320309\n",
        "E ="
       ]
      },
      {
       "output_type": "stream",
       "stream": "stdout",
       "text": [
        " -1.12371320309\n",
        "E = -1.12371320309\n",
        "E = -1.12371320309\n",
        "E ="
       ]
      },
      {
       "output_type": "stream",
       "stream": "stdout",
       "text": [
        " -1.12371320309\n",
        "E = -1.12371320309\n",
        "E = -1.12371320309\n",
        "E ="
       ]
      },
      {
       "output_type": "stream",
       "stream": "stdout",
       "text": [
        " -1.12371320309\n",
        "E = -1.12371320309\n",
        "E = -1.12371320309\n",
        "E ="
       ]
      },
      {
       "output_type": "stream",
       "stream": "stdout",
       "text": [
        " -1.12371320309\n",
        "E = -1.12371320309\n",
        "E ="
       ]
      },
      {
       "output_type": "stream",
       "stream": "stdout",
       "text": [
        " -1.12371320309\n",
        "E = -1.12371320309\n",
        "E ="
       ]
      },
      {
       "output_type": "stream",
       "stream": "stdout",
       "text": [
        " -1.12371320309\n",
        "E = -1.12371320309\n",
        "E ="
       ]
      },
      {
       "output_type": "stream",
       "stream": "stdout",
       "text": [
        " -1.12371320309\n",
        "E = -1.12371320309\n",
        "E ="
       ]
      },
      {
       "output_type": "stream",
       "stream": "stdout",
       "text": [
        " -1.12371320309\n",
        "E = -1.12371320309\n",
        "E ="
       ]
      },
      {
       "output_type": "stream",
       "stream": "stdout",
       "text": [
        " -1.12371320309\n",
        "E = -1.12371320309\n",
        "E ="
       ]
      },
      {
       "output_type": "stream",
       "stream": "stdout",
       "text": [
        " -1.12371320309\n",
        "E = -1.12371320309\n",
        "E ="
       ]
      },
      {
       "output_type": "stream",
       "stream": "stdout",
       "text": [
        " -1.12371320309\n",
        "E = -1.12371320309\n",
        "E = -1.12371320309\n",
        "E ="
       ]
      },
      {
       "output_type": "stream",
       "stream": "stdout",
       "text": [
        " -1.12371320309\n",
        "E = -1.12371320309\n",
        "E = -1.12371320309\n",
        "E ="
       ]
      },
      {
       "output_type": "stream",
       "stream": "stdout",
       "text": [
        " -1.12371320309\n",
        "E = -1.12371320309\n",
        "E = -1.12371320309\n",
        "E ="
       ]
      },
      {
       "output_type": "stream",
       "stream": "stdout",
       "text": [
        " -1.12371320309\n",
        "E = -1.12371320309\n",
        "E = -1.12371320309\n",
        "E ="
       ]
      },
      {
       "output_type": "stream",
       "stream": "stdout",
       "text": [
        " -1.12371320309\n",
        "E = -1.12371320309\n",
        "E = -1.12371320309\n",
        "E ="
       ]
      },
      {
       "output_type": "stream",
       "stream": "stdout",
       "text": [
        " -1.12371320309\n",
        "E = -1.12371320309\n",
        "E = -1.12371320309\n",
        "E ="
       ]
      },
      {
       "output_type": "stream",
       "stream": "stdout",
       "text": [
        " -1.12371320309\n",
        "E = -1.12371320309\n",
        "E = -1.12371320309\n",
        "E ="
       ]
      },
      {
       "output_type": "stream",
       "stream": "stdout",
       "text": [
        " -1.12371320309\n",
        "E = -1.12371320309\n",
        "E = -1.12371320309\n",
        "E ="
       ]
      },
      {
       "output_type": "stream",
       "stream": "stdout",
       "text": [
        " -1.12371320309\n",
        "E = -1.12371320309\n",
        "E = -1.12371320309\n",
        "E ="
       ]
      },
      {
       "output_type": "stream",
       "stream": "stdout",
       "text": [
        " -1.12371320309\n",
        "E = -1.12371320309\n",
        "E = -1.12371320309\n",
        "E ="
       ]
      },
      {
       "output_type": "stream",
       "stream": "stdout",
       "text": [
        " -1.12371320309\n",
        "E = -1.12371320309\n",
        "E = -1.12371320309\n",
        "E ="
       ]
      },
      {
       "output_type": "stream",
       "stream": "stdout",
       "text": [
        " -1.12371320309\n",
        "E = -1.12371320309\n",
        "E = -1.12371320309\n",
        "E ="
       ]
      },
      {
       "output_type": "stream",
       "stream": "stdout",
       "text": [
        " -1.12371320309\n",
        "E = -1.12371320309\n",
        "E = -1.12371320309\n",
        "E ="
       ]
      },
      {
       "output_type": "stream",
       "stream": "stdout",
       "text": [
        " -1.12371320309\n",
        "E = -1.12371320309\n",
        "E ="
       ]
      },
      {
       "output_type": "stream",
       "stream": "stdout",
       "text": [
        " -1.12371320309\n",
        "E = -1.12371320309\n",
        "E ="
       ]
      },
      {
       "output_type": "stream",
       "stream": "stdout",
       "text": [
        " -1.12371320309\n",
        "E = -1.12371320309\n",
        "E ="
       ]
      },
      {
       "output_type": "stream",
       "stream": "stdout",
       "text": [
        " -1.12371320309\n",
        "E = -1.12371320309\n",
        "E = -1.12371320309\n",
        "E ="
       ]
      },
      {
       "output_type": "stream",
       "stream": "stdout",
       "text": [
        " -1.12371320309\n",
        "E = -1.12371320309\n",
        "E = -1.12371320309\n",
        "E ="
       ]
      },
      {
       "output_type": "stream",
       "stream": "stdout",
       "text": [
        " -1.12371320309\n",
        "E = -1.12371320309\n",
        "E = -1.12371320309\n",
        "E ="
       ]
      },
      {
       "output_type": "stream",
       "stream": "stdout",
       "text": [
        " -1.12371320309\n",
        "E = -1.12371320309\n",
        "E = -1.12371320309\n",
        "E ="
       ]
      },
      {
       "output_type": "stream",
       "stream": "stdout",
       "text": [
        " -1.12371320309\n",
        "E = -1.12371320309\n",
        "E = -1.12371320309\n",
        "E ="
       ]
      },
      {
       "output_type": "stream",
       "stream": "stdout",
       "text": [
        " -1.12371320309\n",
        "E = -1.12371320309\n",
        "E = -1.12371320309\n",
        "E ="
       ]
      },
      {
       "output_type": "stream",
       "stream": "stdout",
       "text": [
        " -1.12371320309\n",
        "E = -1.12371320309\n",
        "E = -1.12371320309\n",
        "E ="
       ]
      },
      {
       "output_type": "stream",
       "stream": "stdout",
       "text": [
        " -1.12371320309\n",
        "E = -1.12371320309\n",
        "E ="
       ]
      },
      {
       "output_type": "stream",
       "stream": "stdout",
       "text": [
        " -1.12371320309\n",
        "E = -1.12371320309\n",
        "E = -1.12371320309\n",
        "E ="
       ]
      },
      {
       "output_type": "stream",
       "stream": "stdout",
       "text": [
        " -1.12371320309\n",
        "E = -1.12371320309\n",
        "E = -1.12371320309\n",
        "E ="
       ]
      },
      {
       "output_type": "stream",
       "stream": "stdout",
       "text": [
        " -1.12371320309\n",
        "E = -1.12371320309\n",
        "E = -1.12371320309\n",
        "E ="
       ]
      },
      {
       "output_type": "stream",
       "stream": "stdout",
       "text": [
        " -1.12371320309\n",
        "E = -1.12371320309\n",
        "E = -1.12371320309\n",
        "E ="
       ]
      },
      {
       "output_type": "stream",
       "stream": "stdout",
       "text": [
        " -1.12371320309\n",
        "E = -1.12371320309\n",
        "E = -1.12371320309\n"
       ]
      }
     ],
     "prompt_number": 2
    },
    {
     "cell_type": "code",
     "collapsed": false,
     "input": [],
     "language": "python",
     "metadata": {},
     "outputs": []
    }
   ],
   "metadata": {}
  }
 ]
}